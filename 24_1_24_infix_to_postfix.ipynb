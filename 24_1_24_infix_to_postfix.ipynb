{
  "nbformat": 4,
  "nbformat_minor": 0,
  "metadata": {
    "colab": {
      "provenance": []
    },
    "kernelspec": {
      "name": "python3",
      "display_name": "Python 3"
    },
    "language_info": {
      "name": "python"
    }
  },
  "cells": [
    {
      "cell_type": "code",
      "execution_count": 21,
      "metadata": {
        "colab": {
          "base_uri": "https://localhost:8080/"
        },
        "id": "yryJFPgCkVQq",
        "outputId": "92385cdf-0d02-47e4-9296-cffac8337424"
      },
      "outputs": [
        {
          "output_type": "stream",
          "name": "stdout",
          "text": [
            "Infix Expression: (a+b)*c+d\n",
            "Postfix Expression: ab+c*d+\n"
          ]
        }
      ],
      "source": [
        "def is_operator(char):\n",
        "    return char in {'+', '-', '*', '/'}\n",
        "\n",
        "def precedence(operator):\n",
        "    if operator == '+' or operator == '-':\n",
        "        return 1\n",
        "    elif operator == '*' or operator == '/':\n",
        "        return 2\n",
        "    else:\n",
        "        return 0\n",
        "\n",
        "def infix_to_postfix(infix_expression):\n",
        "    stack = []\n",
        "    postfix_expression = []\n",
        "\n",
        "    for char in infix_expression:\n",
        "        if char.isalnum():\n",
        "\n",
        "            postfix_expression.append(char)\n",
        "        elif char == '(':\n",
        "\n",
        "            stack.append(char)\n",
        "        elif char == ')':\n",
        "\n",
        "            while stack and stack[-1] != '(':\n",
        "                postfix_expression.append(stack.pop())\n",
        "            stack.pop()\n",
        "        elif is_operator(char):\n",
        "\n",
        "            while stack and precedence(stack[-1]) >= precedence(char):\n",
        "                postfix_expression.append(stack.pop())\n",
        "            stack.append(char)\n",
        "\n",
        "\n",
        "    while stack:\n",
        "        postfix_expression.append(stack.pop())\n",
        "\n",
        "    return ''.join(postfix_expression)\n",
        "\n",
        "\n",
        "infix_expression = \"(a+b)*c+d\"\n",
        "postfix_expression = infix_to_postfix(infix_expression)\n",
        "print(\"Infix Expression:\", infix_expression)\n",
        "print(\"Postfix Expression:\", postfix_expression)\n"
      ]
    },
    {
      "cell_type": "code",
      "source": [
        "def fac(n):\n",
        "  if n==0 or n==1:\n",
        "    return 1\n",
        "  else:\n",
        "    return n*fac(n-1)\n",
        "print(fac(5))"
      ],
      "metadata": {
        "colab": {
          "base_uri": "https://localhost:8080/"
        },
        "id": "PzpSpIZemkq7",
        "outputId": "1d392d8d-19bf-4cef-8fc9-2ec5115389ca"
      },
      "execution_count": 4,
      "outputs": [
        {
          "output_type": "stream",
          "name": "stdout",
          "text": [
            "120\n"
          ]
        }
      ]
    },
    {
      "cell_type": "code",
      "source": [
        "a, b = 0, 1\n",
        "\n",
        "n = 10\n",
        "print(a)\n",
        "while b < n:\n",
        "\n",
        "    print(b)\n",
        "\n",
        "    a, b = b, a+b"
      ],
      "metadata": {
        "colab": {
          "base_uri": "https://localhost:8080/"
        },
        "id": "NfKePjPjnQOv",
        "outputId": "f3ae5a74-84e4-4a33-fafa-be26d2f3d014"
      },
      "execution_count": 18,
      "outputs": [
        {
          "output_type": "stream",
          "name": "stdout",
          "text": [
            "0\n",
            "1\n",
            "1\n",
            "2\n",
            "3\n",
            "5\n",
            "8\n"
          ]
        }
      ]
    },
    {
      "cell_type": "code",
      "source": [
        "def fibb(n):\n",
        "  if n<=0:\n",
        "    print (\"incorrect\")\n",
        "  elif n==1:\n",
        "    return 0\n",
        "  elif n==2:\n",
        "    return 1\n",
        "  else:\n",
        "    return fibb(n-1)+fibb(n-2)\n",
        "print(fibb(12))\n",
        "for i in range(1,n):\n",
        "  print(fibb(i))"
      ],
      "metadata": {
        "colab": {
          "base_uri": "https://localhost:8080/"
        },
        "id": "cZUT2fOnonLy",
        "outputId": "ca7d77c3-21c1-4183-f282-3ce2555df17a"
      },
      "execution_count": 20,
      "outputs": [
        {
          "output_type": "stream",
          "name": "stdout",
          "text": [
            "89\n",
            "0\n",
            "1\n",
            "1\n",
            "2\n",
            "3\n",
            "5\n",
            "8\n",
            "13\n",
            "21\n"
          ]
        }
      ]
    }
  ]
}