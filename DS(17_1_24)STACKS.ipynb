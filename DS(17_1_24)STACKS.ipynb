{
  "nbformat": 4,
  "nbformat_minor": 0,
  "metadata": {
    "colab": {
      "provenance": []
    },
    "kernelspec": {
      "name": "python3",
      "display_name": "Python 3"
    },
    "language_info": {
      "name": "python"
    }
  },
  "cells": [
    {
      "cell_type": "code",
      "execution_count": null,
      "metadata": {
        "colab": {
          "base_uri": "https://localhost:8080/"
        },
        "id": "1eLp-lWcg9lu",
        "outputId": "ce5d022e-accf-4c76-f302-3e8cdf7a35ab"
      },
      "outputs": [
        {
          "name": "stdout",
          "output_type": "stream",
          "text": [
            "1.Push 2.Pop 3.Display 4.Quit 4\n"
          ]
        }
      ],
      "source": [
        "class Node:\n",
        "  def __init__(self,x):\n",
        "    self.data=x\n",
        "    self.next=None\n",
        "class Stack:\n",
        "  def __init__(self):\n",
        "    self.top=None\n",
        "  def push(self):\n",
        "    x=int(input(\"Enter element \"))\n",
        "    new=Node(x)\n",
        "    if self.top is None:\n",
        "      self.top=new\n",
        "      self.top.next=None\n",
        "    else:\n",
        "      new.next=self.top\n",
        "      self.top=new\n",
        "  def pop(self):\n",
        "    if self.top is None:\n",
        "      print(\"Stack is empty \")\n",
        "    elif self.top.next is None:\n",
        "      print(\"Popped element \", self.top.data)\n",
        "      self.top=None\n",
        "    else:\n",
        "      temp=self.top\n",
        "      print(\"Popped element \",self.top.data)\n",
        "      self.top=temp.next\n",
        "      temp=None\n",
        "  def display(self):\n",
        "    if self.top is None:\n",
        "      print(\"Stack is empty\")\n",
        "    else:\n",
        "      print(\"Elements are \")\n",
        "      temp=self.top\n",
        "      while temp:\n",
        "        print(temp.data)\n",
        "        temp=temp.next\n",
        "      print(\"TOP OF STACK \",self.top.data)\n",
        "  def overflow():\n",
        "    if len(Stack)==3:\n",
        "      print(\"Stack overflow \")\n",
        "    else:\n",
        "      print(\"\")\n",
        "\n",
        "s=Stack()\n",
        "while True:\n",
        "  opt=int(input(\"1.Push 2.Pop 3.Display 4.Quit \"))\n",
        "  if opt==1:\n",
        "    s.push()\n",
        "  elif opt==2:\n",
        "    s.pop()\n",
        "  elif opt==3:\n",
        "    s.display()\n",
        "  else:\n",
        "    break"
      ]
    },
    {
      "cell_type": "markdown",
      "source": [
        "\n",
        "\n",
        "# steps required to convert infix to postix Expression:\n",
        "# a. if character is left paranthesis, pushed to the stack\n",
        "# b. if character is an operand add to the postfix expression\n",
        "# c. if character is an operator check whether stack is empty\n",
        "#  1. if stack is empty push operator into stack\n",
        "#  2. if stack is not empty check priority of operator\n",
        "#          1. if priority is greater than operator present at top of the stack then push operator into stack\n",
        "#          2. if priority of operator is lesser than or equal to operator present on top of stack then pop the operator from stack and add to postfix expression and go to 1\n",
        "#d.\n",
        "#e. after reading all characters if stack is not empty then pop and add to postfix expression"
      ],
      "metadata": {
        "id": "14l35CcHt9sG"
      }
    }
  ]
}